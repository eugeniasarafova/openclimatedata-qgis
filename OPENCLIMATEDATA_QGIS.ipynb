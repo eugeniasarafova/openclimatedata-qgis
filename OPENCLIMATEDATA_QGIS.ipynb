{
 "cells": [
  {
   "cell_type": "markdown",
   "id": "dc672002-7d1e-4f95-9472-257eedd2f0a8",
   "metadata": {},
   "source": [
    "# 🌍 How to Download and Visualize Heatwave Data from the Copernicus Climate Data Store (CDS) using QGIS\n",
    "\n",
    "This notebook is a practical, markdown-only guide for students and educators.  \n",
    "You will learn how to:\n",
    "\n",
    "- Register for the Copernicus Climate Data Store (CDS)\n",
    "- Download projected climate data (NetCDF format)\n",
    "- Install and use QGIS\n",
    "- Visualize heatwave days from different future climate scenarios\n",
    "\n",
    "---\n"
   ]
  },
  {
   "cell_type": "markdown",
   "id": "167042d5-51d0-4d4c-bded-67aba8949939",
   "metadata": {},
   "source": [
    "### 📥 Step 1: Create a Free Profile on the Copernicus Climate Data Store\n",
    "\n",
    "Before downloading data, you need a free CDS account.\n",
    "\n",
    "#### 🔗 Visit the Copernicus Climate Data Store:\n",
    "👉 https://cds.climate.copernicus.eu\n",
    "\n",
    "#### 🧭 Instructions:\n",
    "1. Click **Login** in the top right corner.\n",
    "2. Select **Create new account**.\n",
    "3. Fill in your name, institution, and email address.\n",
    "4. Agree to the terms and submit the form.\n",
    "5. Confirm your email by clicking the activation link in your inbox.\n",
    "\n",
    "#### 🧠 Student Task:\n",
    "- *What kinds of climate and environmental data are available on the CDS? Browse and note three examples relevant to your city or region.*\n",
    "- *Why is access to open climate data important for public research and education?*\n"
   ]
  },
  {
   "cell_type": "markdown",
   "id": "864139db-ae7b-4daa-b2f1-ec76319eea81",
   "metadata": {},
   "source": [
    "### 🔎 Step 2: Search and Select the Dataset for Heatwave Analysis\n",
    "\n",
    "We will use a dataset containing projected **heatwave days** from climate models.\n",
    "\n",
    "#### 🔍 Go to:\n",
    "👉 [Copernicus CDS Explorer](https://cds.climate.copernicus.eu/datasets/sis-heat-and-cold-spells?tab=overview)\n",
    "\n",
    "Read the overview and proceed to the tab **Download**.\n",
    "\n",
    "#### 🧭 Dataset Settings:\n",
    "\n",
    "Use the following options to configure your data download:\n",
    "\n",
    "| Setting               | Selection                        |\n",
    "|-----------------------|-----------------------------------|\n",
    "| **Variable**          | ✅ Heat wave days                 |\n",
    "| **Definition**        | ✅ Health related                 |\n",
    "| **Experiment**        | ✅ RCP4.5 and RCP8.5 (select both)|\n",
    "| **Ensemble statistic**| ✅ Ensemble members average       |\n",
    "| **Time period**       | Select e.g. 2041–2060 or 2081–2100 |\n",
    "| **Format**            | ✅ NetCDF (.nc)                  |\n",
    "\n",
    "📄 Click **Submit Form**. When ready, the download will start as a `.nc` file.\n",
    "\n",
    "#### 🧠 Student Task:\n",
    "- *What is the difference between the ensemble statistics options?*\n",
    "- *How might different climate scenarios affect the number of heatwave days in your region?*\n"
   ]
  },
  {
   "cell_type": "markdown",
   "id": "49c0cece-a2e5-4fe0-ae5b-cceb845863c8",
   "metadata": {},
   "source": [
    "### 🧰 Step 3: Install QGIS (Free GIS Software)\n",
    "\n",
    "We will use QGIS to visualize the downloaded NetCDF climate data.\n",
    "\n",
    "#### 🔗 Download QGIS:\n",
    "👉 [Download QGIS](https://qgis.org/download)\n",
    "\n",
    "#### 🧭 Installation Steps:\n",
    "1. Choose your operating system (Windows, macOS, Linux).\n",
    "2. Download the **Long Term Release (LTR)** version.\n",
    "3. Run the installer and follow the steps.\n",
    "4. Launch QGIS once installation is complete.\n",
    "\n",
    "#### 🧠 Student Task:\n",
    "- *What is QGIS, and how does it compare to other GIS software like ArcGIS?*\n",
    "- *Why is QGIS considered an important tool for open and accessible education?*\n"
   ]
  },
  {
   "cell_type": "code",
   "execution_count": null,
   "id": "db061d22-ad31-4a52-bd02-7347fc5692ac",
   "metadata": {},
   "outputs": [],
   "source": []
  }
 ],
 "metadata": {
  "kernelspec": {
   "display_name": "Python [conda env:base] *",
   "language": "python",
   "name": "conda-base-py"
  },
  "language_info": {
   "codemirror_mode": {
    "name": "ipython",
    "version": 3
   },
   "file_extension": ".py",
   "mimetype": "text/x-python",
   "name": "python",
   "nbconvert_exporter": "python",
   "pygments_lexer": "ipython3",
   "version": "3.12.7"
  }
 },
 "nbformat": 4,
 "nbformat_minor": 5
}
